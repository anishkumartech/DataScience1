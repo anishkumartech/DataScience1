{
 "cells": [
  {
   "cell_type": "markdown",
   "id": "5e1a3a14",
   "metadata": {},
   "source": [
    "## Assignment 3"
   ]
  },
  {
   "cell_type": "markdown",
   "id": "ff480dc5",
   "metadata": {},
   "source": [
    "1. Scenario: A company wants to analyze the sales performance of its products in different\n",
    "regions. They have collected the following data:\n",
    "Region A: [10, 15, 12, 8, 14]\n",
    "Region B: [18, 20, 16, 22, 25]\n",
    "Calculate the mean sales for each region.\n"
   ]
  },
  {
   "cell_type": "code",
   "execution_count": 1,
   "id": "99f4f53f",
   "metadata": {},
   "outputs": [
    {
     "name": "stdout",
     "output_type": "stream",
     "text": [
      "Mean sales for Region A: 11.8\n",
      "Mean sales for Region B: 20.2\n"
     ]
    }
   ],
   "source": [
    "def calculate_mean_sales(region_sales):\n",
    "    total_sales = sum(region_sales)\n",
    "    num_sales = len(region_sales)\n",
    "    mean_sales = total_sales / num_sales\n",
    "    return mean_sales\n",
    "\n",
    "# Sales data for Region A\n",
    "region_a_sales = [10, 15, 12, 8, 14]\n",
    "mean_sales_a = calculate_mean_sales(region_a_sales)\n",
    "print(\"Mean sales for Region A:\", mean_sales_a)\n",
    "\n",
    "# Sales data for Region B\n",
    "region_b_sales = [18, 20, 16, 22, 25]\n",
    "mean_sales_b = calculate_mean_sales(region_b_sales)\n",
    "print(\"Mean sales for Region B:\", mean_sales_b)\n"
   ]
  },
  {
   "cell_type": "markdown",
   "id": "34145234",
   "metadata": {},
   "source": [
    "2. Scenario: A survey is conducted to measure customer satisfaction on a scale of 1 to 5. The\n",
    "data collected is as follows:\n",
    "[4, 5, 2, 3, 5, 4, 3, 2, 4, 5]\n",
    "Calculate the mode of the survey responses.\n",
    "\n"
   ]
  },
  {
   "cell_type": "code",
   "execution_count": 2,
   "id": "7044cf86",
   "metadata": {},
   "outputs": [
    {
     "name": "stdout",
     "output_type": "stream",
     "text": [
      "Mode of the survey responses: 4\n"
     ]
    }
   ],
   "source": [
    "from collections import Counter\n",
    "\n",
    "survey_responses = [4, 5, 2, 3, 5, 4, 3, 2, 4, 5]\n",
    "counter = Counter(survey_responses)\n",
    "mode = counter.most_common(1)[0][0]\n",
    "\n",
    "print(\"Mode of the survey responses:\", mode)\n"
   ]
  },
  {
   "cell_type": "markdown",
   "id": "9b256160",
   "metadata": {},
   "source": [
    "3. Scenario: A company wants to compare the salaries of two departments. The salary data for\n",
    "Department A and Department B are as follows:\n",
    "Department A: [5000, 6000, 5500, 7000]\n",
    "Department B: [4500, 5500, 5800, 6000, 5200]\n",
    "Calculate the median salary for each department.\n"
   ]
  },
  {
   "cell_type": "code",
   "execution_count": 3,
   "id": "64c85c4e",
   "metadata": {},
   "outputs": [
    {
     "name": "stdout",
     "output_type": "stream",
     "text": [
      "Median salary for Department A: 5750.0\n",
      "Median salary for Department B: 5500\n"
     ]
    }
   ],
   "source": [
    "def calculate_median(salary_data):\n",
    "    sorted_salaries = sorted(salary_data)\n",
    "    n = len(sorted_salaries)\n",
    "    if n % 2 == 0:\n",
    "        median = (sorted_salaries[n // 2 - 1] + sorted_salaries[n // 2]) / 2\n",
    "    else:\n",
    "        median = sorted_salaries[n // 2]\n",
    "    return median\n",
    "\n",
    "# Salary data for Department A\n",
    "department_a_salaries = [5000, 6000, 5500, 7000]\n",
    "median_a = calculate_median(department_a_salaries)\n",
    "print(\"Median salary for Department A:\", median_a)\n",
    "\n",
    "# Salary data for Department B\n",
    "department_b_salaries = [4500, 5500, 5800, 6000, 5200]\n",
    "median_b = calculate_median(department_b_salaries)\n",
    "print(\"Median salary for Department B:\", median_b)\n"
   ]
  },
  {
   "cell_type": "markdown",
   "id": "effe2db1",
   "metadata": {},
   "source": [
    "4. Scenario: A data analyst wants to determine the variability in the daily stock prices of a\n",
    "company. The data collected is as follows:\n",
    "[25.5, 24.8, 26.1, 25.3, 24.9]\n",
    "Calculate the range of the stock prices.\n"
   ]
  },
  {
   "cell_type": "code",
   "execution_count": 4,
   "id": "fc608da3",
   "metadata": {},
   "outputs": [
    {
     "name": "stdout",
     "output_type": "stream",
     "text": [
      "Range of the stock prices: 1.3000000000000007\n"
     ]
    }
   ],
   "source": [
    "stock_prices = [25.5, 24.8, 26.1, 25.3, 24.9]\n",
    "price_range = max(stock_prices) - min(stock_prices)\n",
    "\n",
    "print(\"Range of the stock prices:\", price_range)\n"
   ]
  },
  {
   "cell_type": "markdown",
   "id": "2a57e653",
   "metadata": {},
   "source": [
    "5. Scenario: A study is conducted to compare the performance of two different teaching\n",
    "methods. The test scores of the students in each group are as follows:\n",
    "Group A: [85, 90, 92, 88, 91]\n",
    "Group B: [82, 88, 90, 86, 87]\n",
    "Perform a t-test to determine if there is a significant difference in the mean scores between the\n",
    "two groups.\n"
   ]
  },
  {
   "cell_type": "code",
   "execution_count": 5,
   "id": "0c8d4c08",
   "metadata": {},
   "outputs": [
    {
     "name": "stdout",
     "output_type": "stream",
     "text": [
      "There is no significant difference in the mean scores between the two groups.\n"
     ]
    }
   ],
   "source": [
    "import scipy.stats as stats\n",
    "\n",
    "group_a_scores = [85, 90, 92, 88, 91]\n",
    "group_b_scores = [82, 88, 90, 86, 87]\n",
    "\n",
    "t_statistic, p_value = stats.ttest_ind(group_a_scores, group_b_scores)\n",
    "\n",
    "alpha = 0.05\n",
    "if p_value < alpha:\n",
    "    print(\"There is a significant difference in the mean scores between the two groups.\")\n",
    "else:\n",
    "    print(\"There is no significant difference in the mean scores between the two groups.\")\n"
   ]
  },
  {
   "cell_type": "markdown",
   "id": "3ae91e1d",
   "metadata": {},
   "source": [
    "6. Scenario: A company wants to analyze the relationship between advertising expenditure and\n",
    "sales. The data collected is as follows:\n",
    "Advertising Expenditure (in thousands): [10, 15, 12, 8, 14]\n",
    "Sales (in thousands): [25, 30, 28, 20, 26]\n",
    "Calculate the correlation coefficient between advertising expenditure and sales.\n"
   ]
  },
  {
   "cell_type": "code",
   "execution_count": 6,
   "id": "4f7ced58",
   "metadata": {},
   "outputs": [
    {
     "name": "stdout",
     "output_type": "stream",
     "text": [
      "Correlation coefficient: 0.8757511375750132\n"
     ]
    }
   ],
   "source": [
    "import numpy as np\n",
    "\n",
    "advertising_expenditure = [10, 15, 12, 8, 14]\n",
    "sales = [25, 30, 28, 20, 26]\n",
    "\n",
    "correlation_coefficient = np.corrcoef(advertising_expenditure, sales)[0, 1]\n",
    "\n",
    "print(\"Correlation coefficient:\", correlation_coefficient)\n"
   ]
  },
  {
   "cell_type": "markdown",
   "id": "eaa28f7e",
   "metadata": {},
   "source": [
    "7. Scenario: A survey is conducted to measure the heights of a group of people. The data\n",
    "collected is as follows:\n",
    "[160, 170, 165, 155, 175, 180, 170]\n",
    "Calculate the standard deviation of the heights."
   ]
  },
  {
   "cell_type": "code",
   "execution_count": 8,
   "id": "cc46496a",
   "metadata": {},
   "outputs": [
    {
     "name": "stdout",
     "output_type": "stream",
     "text": [
      "Standard deviation of the heights: 9.354143466934854\n"
     ]
    }
   ],
   "source": [
    "import statistics\n",
    "\n",
    "heights = [160, 170, 165, 155, 175, 180 ]\n",
    "\n",
    "\n",
    "standard_deviation = statistics.stdev(heights)\n",
    "\n",
    "print(\"Standard deviation of the heights:\", standard_deviation)\n"
   ]
  },
  {
   "cell_type": "markdown",
   "id": "3bd48bad",
   "metadata": {},
   "source": [
    "8. Scenario: A company wants to analyze the relationship between employee tenure and job\n",
    "satisfaction. The data collected is as follows:\n",
    "Employee Tenure (in years): [2, 3, 5, 4, 6, 2, 4]\n",
    "Job Satisfaction (on a scale of 1 to 10): [7, 8, 6, 9, 5, 7, 6]\n",
    "Perform a linear regression analysis to predict job satisfaction based on employee tenure."
   ]
  },
  {
   "cell_type": "code",
   "execution_count": 9,
   "id": "7ce2cb2e",
   "metadata": {},
   "outputs": [
    {
     "name": "stdout",
     "output_type": "stream",
     "text": [
      "Slope (Regression Coefficient): -0.4680851063829787\n",
      "Intercept: 8.595744680851062\n",
      "R-squared Value: 0.27099664053751393\n",
      "P-value: 0.23095550952297988\n",
      "Standard Error: 0.34333860006713723\n",
      "Predicted Job Satisfaction for Tenure of 4.5 years: 6.489361702127658\n"
     ]
    }
   ],
   "source": [
    "import numpy as np\n",
    "from scipy import stats\n",
    "\n",
    "employee_tenure = [2, 3, 5, 4, 6, 2, 4]\n",
    "job_satisfaction = [7, 8, 6, 9, 5, 7, 6]\n",
    "\n",
    "# Convert the data to NumPy arrays\n",
    "x = np.array(employee_tenure)\n",
    "y = np.array(job_satisfaction)\n",
    "\n",
    "# Perform linear regression analysis\n",
    "slope, intercept, r_value, p_value, std_err = stats.linregress(x, y)\n",
    "\n",
    "# Print the regression results\n",
    "print(\"Slope (Regression Coefficient):\", slope)\n",
    "print(\"Intercept:\", intercept)\n",
    "print(\"R-squared Value:\", r_value**2)\n",
    "print(\"P-value:\", p_value)\n",
    "print(\"Standard Error:\", std_err)\n",
    "\n",
    "# Predict job satisfaction for a new tenure value\n",
    "new_tenure = 4.5\n",
    "predicted_satisfaction = intercept + slope * new_tenure\n",
    "print(\"Predicted Job Satisfaction for Tenure of\", new_tenure, \"years:\", predicted_satisfaction)\n"
   ]
  },
  {
   "cell_type": "markdown",
   "id": "138d7e1a",
   "metadata": {},
   "source": [
    "9. Scenario: A study is conducted to compare the effectiveness of two different medications.\n",
    "The recovery times of the patients in each group are as follows:\n",
    "Medication A: [10, 12, 14, 11, 13]\n",
    "Medication B: [15, 17, 16, 14, 18]\n",
    "Perform an analysis of variance (ANOVA) to determine if there is a significant difference in the\n",
    "mean recovery times between the two medications."
   ]
  },
  {
   "cell_type": "code",
   "execution_count": 10,
   "id": "c3f0633c",
   "metadata": {},
   "outputs": [
    {
     "name": "stdout",
     "output_type": "stream",
     "text": [
      "There is a significant difference in the mean recovery times between the two medications.\n"
     ]
    }
   ],
   "source": [
    "import numpy as np\n",
    "from scipy import stats\n",
    "\n",
    "medication_a_recovery_times = [10, 12, 14, 11, 13]\n",
    "medication_b_recovery_times = [15, 17, 16, 14, 18]\n",
    "\n",
    "# Perform ANOVA\n",
    "f_value, p_value = stats.f_oneway(medication_a_recovery_times, medication_b_recovery_times)\n",
    "\n",
    "alpha = 0.05\n",
    "if p_value < alpha:\n",
    "    print(\"There is a significant difference in the mean recovery times between the two medications.\")\n",
    "else:\n",
    "    print(\"There is no significant difference in the mean recovery times between the two medications.\")\n"
   ]
  },
  {
   "cell_type": "markdown",
   "id": "68bd9801",
   "metadata": {},
   "source": [
    "10. Scenario: A company wants to analyze customer feedback ratings on a scale of 1 to 10. The\n",
    "data collected is\n",
    "as follows:\n",
    "[8, 9, 7, 6, 8, 10, 9, 8, 7, 8]\n",
    "Calculate the 75th percentile of the feedback ratings.\n"
   ]
  },
  {
   "cell_type": "code",
   "execution_count": 11,
   "id": "2901eaf1",
   "metadata": {},
   "outputs": [
    {
     "name": "stdout",
     "output_type": "stream",
     "text": [
      "75th percentile of the feedback ratings: 8.75\n"
     ]
    }
   ],
   "source": [
    "import numpy as np\n",
    "\n",
    "feedback_ratings = [8, 9, 7, 6, 8, 10, 9, 8, 7, 8]\n",
    "percentile_75 = np.percentile(feedback_ratings, 75)\n",
    "\n",
    "print(\"75th percentile of the feedback ratings:\", percentile_75)\n"
   ]
  },
  {
   "cell_type": "markdown",
   "id": "c9fd04ef",
   "metadata": {},
   "source": [
    "11. Scenario: A quality control department wants to test the weight consistency of a product.\n",
    "The weights of a sample of products are as follows:\n",
    "[10.2, 9.8, 10.0, 10.5, 10.3, 10.1]\n",
    "Perform a hypothesis test to determine if the mean weight differs significantly from 10 grams.\n",
    "\n"
   ]
  },
  {
   "cell_type": "code",
   "execution_count": 12,
   "id": "df8dfd7f",
   "metadata": {},
   "outputs": [
    {
     "name": "stdout",
     "output_type": "stream",
     "text": [
      "The mean weight does not differ significantly from 10 grams.\n"
     ]
    }
   ],
   "source": [
    "import numpy as np\n",
    "from scipy import stats\n",
    "\n",
    "sample_weights = [10.2, 9.8, 10.0, 10.5, 10.3, 10.1]\n",
    "\n",
    "# Perform one-sample t-test\n",
    "t_statistic, p_value = stats.ttest_1samp(sample_weights, 10)\n",
    "\n",
    "alpha = 0.05\n",
    "if p_value < alpha:\n",
    "    print(\"The mean weight differs significantly from 10 grams.\")\n",
    "else:\n",
    "    print(\"The mean weight does not differ significantly from 10 grams.\")\n"
   ]
  },
  {
   "cell_type": "markdown",
   "id": "ffe30785",
   "metadata": {},
   "source": [
    "12. Scenario: A company wants to analyze the click-through rates of two different website\n",
    "designs. The number of clicks for each design is as follows:\n",
    "Design A: [100, 120, 110, 90, 95]\n",
    "Design B: [80, 85, 90, 95, 100]\n",
    "Perform a chi-square test to determine if there is a significant difference in the click-through\n",
    "rates between the two designs.\n"
   ]
  },
  {
   "cell_type": "code",
   "execution_count": 13,
   "id": "13c24f02",
   "metadata": {},
   "outputs": [
    {
     "name": "stdout",
     "output_type": "stream",
     "text": [
      "There is no significant difference in the click-through rates between the two designs.\n"
     ]
    }
   ],
   "source": [
    "import numpy as np\n",
    "from scipy import stats\n",
    "\n",
    "design_a_clicks = [100, 120, 110, 90, 95]\n",
    "design_b_clicks = [80, 85, 90, 95, 100]\n",
    "\n",
    "# Perform chi-square test\n",
    "observed = np.array([design_a_clicks, design_b_clicks])\n",
    "chi2, p_value, _, _ = stats.chi2_contingency(observed)\n",
    "\n",
    "alpha = 0.05\n",
    "if p_value < alpha:\n",
    "    print(\"There is a significant difference in the click-through rates between the two designs.\")\n",
    "else:\n",
    "    print(\"There is no significant difference in the click-through rates between the two designs.\")\n"
   ]
  },
  {
   "cell_type": "markdown",
   "id": "42be0b68",
   "metadata": {},
   "source": [
    "13. Scenario: A survey is conducted to measure customer satisfaction with a product on a scale\n",
    "of 1 to 10. The data collected is as follows:\n",
    "[7, 9, 6, 8, 10, 7, 8, 9, 7, 8]\n",
    "Calculate the 95% confidence interval for the population mean satisfaction score.\n"
   ]
  },
  {
   "cell_type": "code",
   "execution_count": 14,
   "id": "d287c3fa",
   "metadata": {},
   "outputs": [
    {
     "name": "stdout",
     "output_type": "stream",
     "text": [
      "95% Confidence Interval: (7.043561120599888, 8.756438879400113)\n"
     ]
    }
   ],
   "source": [
    "import numpy as np\n",
    "from scipy import stats\n",
    "\n",
    "satisfaction_scores = [7, 9, 6, 8, 10, 7, 8, 9, 7, 8]\n",
    "\n",
    "# Calculate the confidence interval\n",
    "confidence_interval = stats.t.interval(0.95, len(satisfaction_scores) - 1, loc=np.mean(satisfaction_scores), scale=stats.sem(satisfaction_scores))\n",
    "\n",
    "print(\"95% Confidence Interval:\", confidence_interval)\n"
   ]
  },
  {
   "cell_type": "markdown",
   "id": "7f606443",
   "metadata": {},
   "source": [
    "14. Scenario: A company wants to analyze the effect of temperature on product performance.\n",
    "The data collected is as follows:\n",
    "Temperature (in degrees Celsius): [20, 22, 23, 19, 21]\n",
    "Performance (on a scale of 1 to 10): [8, 7, 9, 6, 8]\n",
    "Perform a simple linear regression to predict performance based on temperature.\n"
   ]
  },
  {
   "cell_type": "code",
   "execution_count": 15,
   "id": "e07bef11",
   "metadata": {},
   "outputs": [
    {
     "name": "stdout",
     "output_type": "stream",
     "text": [
      "Slope (Regression Coefficient): 0.5\n",
      "Intercept: -2.9000000000000004\n",
      "R-squared Value: 0.4807692307692307\n",
      "P-value: 0.19417134561205843\n",
      "Standard Error: 0.30000000000000004\n",
      "Predicted Performance for Temperature of 24 degrees Celsius: 9.1\n"
     ]
    }
   ],
   "source": [
    "import numpy as np\n",
    "from scipy import stats\n",
    "\n",
    "temperature = [20, 22, 23, 19, 21]\n",
    "performance = [8, 7, 9, 6, 8]\n",
    "\n",
    "# Perform linear regression\n",
    "slope, intercept, r_value, p_value, std_err = stats.linregress(temperature, performance)\n",
    "\n",
    "# Print the regression results\n",
    "print(\"Slope (Regression Coefficient):\", slope)\n",
    "print(\"Intercept:\", intercept)\n",
    "print(\"R-squared Value:\", r_value**2)\n",
    "print(\"P-value:\", p_value)\n",
    "print(\"Standard Error:\", std_err)\n",
    "\n",
    "# Predict performance for a new temperature value\n",
    "new_temperature = 24\n",
    "predicted_performance = intercept + slope * new_temperature\n",
    "print(\"Predicted Performance for Temperature of\", new_temperature, \"degrees Celsius:\", predicted_performance)\n"
   ]
  },
  {
   "cell_type": "markdown",
   "id": "8cf8fa4e",
   "metadata": {},
   "source": [
    "15. Scenario: A study is conducted to compare the preferences of two groups of participants.\n",
    "The preferences are measured on a Likert scale from 1 to 5. The data collected is as follows:\n",
    "Group A: [4, 3, 5, 2, 4]\n",
    "Group B: [3, 2, 4, 3, 3]\n",
    "Perform a Mann-Whitney U test to determine if there is a significant difference in the median\n",
    "preferences between the two groups"
   ]
  },
  {
   "cell_type": "code",
   "execution_count": 16,
   "id": "e5de98de",
   "metadata": {},
   "outputs": [
    {
     "name": "stdout",
     "output_type": "stream",
     "text": [
      "There is no significant difference in the preferences between the two groups.\n"
     ]
    }
   ],
   "source": [
    "import numpy as np\n",
    "from scipy import stats\n",
    "\n",
    "group_a_preferences = [4, 3, 5, 2, 4]\n",
    "group_b_preferences = [3, 2, 4, 3, 3]\n",
    "\n",
    "# Perform Mann-Whitney U test\n",
    "statistic, p_value = stats.mannwhitneyu(group_a_preferences, group_b_preferences)\n",
    "\n",
    "alpha = 0.05\n",
    "if p_value < alpha:\n",
    "    print(\"There is a significant difference in the preferences between the two groups.\")\n",
    "else:\n",
    "    print(\"There is no significant difference in the preferences between the two groups.\")\n"
   ]
  },
  {
   "cell_type": "markdown",
   "id": "6a46dae7",
   "metadata": {},
   "source": [
    "16. Scenario: A company wants to analyze the distribution of customer ages. The data collected\n",
    "is as follows:\n",
    "[25, 30, 35, 40, 45, 50, 55, 60, 65, 70]\n",
    "Calculate the interquartile range (IQR) of the ages.\n"
   ]
  },
  {
   "cell_type": "code",
   "execution_count": 17,
   "id": "ee41912c",
   "metadata": {},
   "outputs": [
    {
     "name": "stdout",
     "output_type": "stream",
     "text": [
      "Interquartile Range (IQR) of the ages: 22.5\n"
     ]
    }
   ],
   "source": [
    "import numpy as np\n",
    "\n",
    "ages = [25, 30, 35, 40, 45, 50, 55, 60, 65, 70]\n",
    "q1 = np.percentile(ages, 25)\n",
    "q3 = np.percentile(ages, 75)\n",
    "iqr = q3 - q1\n",
    "\n",
    "print(\"Interquartile Range (IQR) of the ages:\", iqr)\n"
   ]
  },
  {
   "cell_type": "markdown",
   "id": "d41d623e",
   "metadata": {},
   "source": [
    "17. Scenario: A study is conducted to compare the performance of three different machine\n",
    "learning algorithms. The accuracy scores for each algorithm are as follows:\n",
    "Algorithm A: [0.85, 0.80, 0.82, 0.87, 0.83]\n",
    "Algorithm B: [0.78, 0.82, 0.84, 0.80, 0.79]\n",
    "Algorithm C: [0.90, 0.88, 0.89, 0.86, 0.87]\n",
    "Perform a Kruskal-Wallis test to determine if there is a significant difference in the median\n",
    "accuracy scores between the algorithms.\n"
   ]
  },
  {
   "cell_type": "code",
   "execution_count": 18,
   "id": "b0a01d80",
   "metadata": {},
   "outputs": [
    {
     "name": "stdout",
     "output_type": "stream",
     "text": [
      "There is a significant difference in the median accuracy scores between the algorithms.\n"
     ]
    }
   ],
   "source": [
    "import numpy as np\n",
    "from scipy import stats\n",
    "\n",
    "algorithm_a_scores = [0.85, 0.80, 0.82, 0.87, 0.83]\n",
    "algorithm_b_scores = [0.78, 0.82, 0.84, 0.80, 0.79]\n",
    "algorithm_c_scores = [0.90, 0.88, 0.89, 0.86, 0.87]\n",
    "\n",
    "# Perform Kruskal-Wallis test\n",
    "statistic, p_value = stats.kruskal(algorithm_a_scores, algorithm_b_scores, algorithm_c_scores)\n",
    "\n",
    "alpha = 0.05\n",
    "if p_value < alpha:\n",
    "    print(\"There is a significant difference in the median accuracy scores between the algorithms.\")\n",
    "else:\n",
    "    print(\"There is no significant difference in the median accuracy scores between the algorithms.\")\n"
   ]
  },
  {
   "cell_type": "markdown",
   "id": "fa93863e",
   "metadata": {},
   "source": [
    "18. Scenario: A company wants to analyze the effect of price on sales. The data collected is as\n",
    "follows:\n",
    "Price (in dollars): [10, 15, 12, 8, 14]\n",
    "Sales: [100, 80, 90, 110, 95]\n",
    "Perform a simple linear regression to predict\n",
    "sales based on price.\n"
   ]
  },
  {
   "cell_type": "code",
   "execution_count": 19,
   "id": "7d2c09d3",
   "metadata": {},
   "outputs": [
    {
     "name": "stdout",
     "output_type": "stream",
     "text": [
      "Slope (Regression Coefficient): -3.506097560975609\n",
      "Intercept: 136.3719512195122\n",
      "R-squared Value: 0.8064024390243901\n",
      "P-value: 0.03850178234753776\n",
      "Standard Error: 0.9918303504036147\n",
      "Predicted Sales for Price of 13 dollars: 90.79268292682929\n"
     ]
    }
   ],
   "source": [
    "import numpy as np\n",
    "from scipy import stats\n",
    "\n",
    "price = [10, 15, 12, 8, 14]\n",
    "sales = [100, 80, 90, 110, 95]\n",
    "\n",
    "# Perform linear regression\n",
    "slope, intercept, r_value, p_value, std_err = stats.linregress(price, sales)\n",
    "\n",
    "# Print the regression results\n",
    "print(\"Slope (Regression Coefficient):\", slope)\n",
    "print(\"Intercept:\", intercept)\n",
    "print(\"R-squared Value:\", r_value**2)\n",
    "print(\"P-value:\", p_value)\n",
    "print(\"Standard Error:\", std_err)\n",
    "\n",
    "# Predict sales for a new price value\n",
    "new_price = 13\n",
    "predicted_sales = intercept + slope * new_price\n",
    "print(\"Predicted Sales for Price of\", new_price, \"dollars:\", predicted_sales)\n"
   ]
  },
  {
   "cell_type": "markdown",
   "id": "a3fa571d",
   "metadata": {},
   "source": [
    "19. Scenario: A survey is conducted to measure the satisfaction levels of customers with a new\n",
    "product. The data collected is as follows:\n",
    "[7, 8, 9, 6, 8, 7, 9, 7, 8, 7]\n",
    "Calculate the standard error of the mean satisfaction score.\n"
   ]
  },
  {
   "cell_type": "code",
   "execution_count": 20,
   "id": "7845a469",
   "metadata": {},
   "outputs": [
    {
     "name": "stdout",
     "output_type": "stream",
     "text": [
      "Standard Error of the Mean Satisfaction Score: 0.30550504633038933\n"
     ]
    }
   ],
   "source": [
    "import numpy as np\n",
    "from scipy import stats\n",
    "\n",
    "satisfaction_scores = [7, 8, 9, 6, 8, 7, 9, 7, 8, 7]\n",
    "standard_error = stats.sem(satisfaction_scores)\n",
    "\n",
    "print(\"Standard Error of the Mean Satisfaction Score:\", standard_error)\n"
   ]
  },
  {
   "cell_type": "markdown",
   "id": "01035dd9",
   "metadata": {},
   "source": [
    "20. Scenario: A company wants to analyze the relationship between advertising expenditure\n",
    "and sales. The data collected is as follows:\n",
    "Advertising Expenditure (in thousands): [10, 15, 12, 8, 14]\n",
    "Sales (in thousands): [25, 30, 28, 20, 26]\n",
    "Perform a multiple regression analysis to predict sales based on advertising expenditure."
   ]
  },
  {
   "cell_type": "code",
   "execution_count": 21,
   "id": "a0e237af",
   "metadata": {},
   "outputs": [
    {
     "name": "stdout",
     "output_type": "stream",
     "text": [
      "Regression Coefficients: [12.20121951  1.15243902]\n",
      "R-squared Value: 0.7669400549639299\n",
      "Predicted Sales: [24.87804878 27.18292683 30.6402439 ]\n"
     ]
    }
   ],
   "source": [
    "import numpy as np\n",
    "import statsmodels.api as sm\n",
    "\n",
    "advertising_expenditure = [10, 15, 12, 8, 14]\n",
    "sales = [25, 30, 28, 20, 26]\n",
    "\n",
    "# Add constant to the advertising expenditure data\n",
    "X = sm.add_constant(advertising_expenditure)\n",
    "\n",
    "# Perform multiple regression\n",
    "model = sm.OLS(sales, X)\n",
    "results = model.fit()\n",
    "\n",
    "# Print the regression results\n",
    "print(\"Regression Coefficients:\", results.params)\n",
    "print(\"R-squared Value:\", results.rsquared)\n",
    "\n",
    "# Predict sales for new advertising expenditure values\n",
    "new_advertising_expenditure = [11, 13, 16]\n",
    "new_X = sm.add_constant(new_advertising_expenditure)\n",
    "predicted_sales = results.predict(new_X)\n",
    "print(\"Predicted Sales:\", predicted_sales)\n"
   ]
  },
  {
   "cell_type": "code",
   "execution_count": null,
   "id": "c2a9cece",
   "metadata": {},
   "outputs": [],
   "source": []
  },
  {
   "cell_type": "code",
   "execution_count": null,
   "id": "6bea8f41",
   "metadata": {},
   "outputs": [],
   "source": []
  }
 ],
 "metadata": {
  "kernelspec": {
   "display_name": "Python 3 (ipykernel)",
   "language": "python",
   "name": "python3"
  },
  "language_info": {
   "codemirror_mode": {
    "name": "ipython",
    "version": 3
   },
   "file_extension": ".py",
   "mimetype": "text/x-python",
   "name": "python",
   "nbconvert_exporter": "python",
   "pygments_lexer": "ipython3",
   "version": "3.10.9"
  }
 },
 "nbformat": 4,
 "nbformat_minor": 5
}
